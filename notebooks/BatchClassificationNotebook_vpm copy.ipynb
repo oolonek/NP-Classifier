{
 "cells": [
  {
   "cell_type": "code",
   "execution_count": 1,
   "metadata": {},
   "outputs": [],
   "source": [
    "import pandas as pd\n",
    "import grequests\n",
    "import urllib.parse\n",
    "from tqdm import tqdm\n",
    "import json\n",
    "from pandas import json_normalize\n",
    "import time\n",
    "\n",
    "\n"
   ]
  },
  {
   "cell_type": "code",
   "execution_count": 18,
   "metadata": {
    "tags": []
   },
   "outputs": [
    {
     "output_type": "stream",
     "name": "stderr",
     "text": "100%|██████████| 5/5 [00:00<00:00, 21664.79it/s]\n"
    }
   ],
   "source": [
    "SERVER_URL = \"https://npclassifier.ucsd.edu\"\n",
    "\n",
    "df = pd.read_csv(\"smiles.tsv\", sep=\"\\t\")\n",
    "#df = pd.read_csv(\"/Users/pma/Dropbox/Research_UNIGE/git_repos/pybatchclassyfire/data/sanitized_structure.tsv\", sep=\"\\t\")\n",
    "#df = df.head(1000)\n",
    "\n",
    "all_urls = []\n",
    "\n",
    "for entry in tqdm(df.to_dict(orient=\"records\")):\n",
    "    smiles = str(entry[\"smiles\"])\n",
    "    if len(smiles) > 5:\n",
    "        request_url = \"{}/classify?smiles={}\".format(SERVER_URL, urllib.parse.quote(smiles))\n",
    "        all_urls.append(request_url)\n",
    "\n",
    "# Lets actually do the query and measure the speed\n",
    "rs = (grequests.get(u) for u in all_urls)\n",
    "responses = grequests.map(rs, size=20)"
   ]
  },
  {
   "cell_type": "code",
   "execution_count": 19,
   "metadata": {
    "tags": []
   },
   "outputs": [
    {
     "output_type": "stream",
     "name": "stdout",
     "text": "0.0024878978729248047\n"
    }
   ],
   "source": [
    "\n",
    "start = time.time()\n",
    "all_responses_list = [response.json() for response in responses]\n",
    "end = time.time()\n",
    "print(end - start)\n",
    "\n"
   ]
  },
  {
   "cell_type": "code",
   "execution_count": 20,
   "metadata": {},
   "outputs": [],
   "source": [
    "flattened_classified_json = json_normalize(all_responses_list)"
   ]
  },
  {
   "cell_type": "code",
   "execution_count": 21,
   "metadata": {
    "tags": []
   },
   "outputs": [
    {
     "output_type": "stream",
     "name": "stdout",
     "text": "<class 'pandas.core.frame.DataFrame'>\nRangeIndex: 5 entries, 0 to 4\nData columns (total 6 columns):\n #   Column              Non-Null Count  Dtype \n---  ------              --------------  ----- \n 0   class_results       5 non-null      object\n 1   superclass_results  5 non-null      object\n 2   pathway_results     5 non-null      object\n 3   isglycoside         5 non-null      bool  \n 4   fp1                 5 non-null      object\n 5   fp2                 5 non-null      object\ndtypes: bool(1), object(5)\nmemory usage: 333.0+ bytes\n"
    }
   ],
   "source": [
    "flattened_classified_json.info()"
   ]
  },
  {
   "cell_type": "code",
   "execution_count": 23,
   "metadata": {},
   "outputs": [],
   "source": [
    "df = flattened_classified_json"
   ]
  },
  {
   "cell_type": "code",
   "execution_count": 24,
   "metadata": {},
   "outputs": [
    {
     "output_type": "execute_result",
     "data": {
      "text/plain": "                              class_results            superclass_results  \\\n0                 [Iridoids monoterpenoids]              [Monoterpenoids]   \n1                             [Arteminisin]            [Sesquiterpenoids]   \n2                          [Wax monoesters]                [Fatty esters]   \n3                             [Resolvin Ds]                 [Docosanoids]   \n4  [Abietane diterpenoids, Naphthoquinones]  [Naphthalenes, Diterpenoids]   \n\n             pathway_results  isglycoside  \\\n0               [Terpenoids]         True   \n1               [Terpenoids]        False   \n2              [Fatty acids]        False   \n3              [Fatty acids]        False   \n4  [Polyketides, Terpenoids]        False   \n\n                                                 fp1  \\\n0  [0, 0, 0, 0, 0, 0, 0, 0, 0, 0, 0, 0, 0, 0, 0, ...   \n1  [0, 0, 0, 0, 0, 0, 0, 0, 0, 0, 0, 0, 0, 0, 0, ...   \n2  [0, 0, 0, 0, 0, 0, 0, 0, 0, 0, 0, 0, 0, 0, 0, ...   \n3  [0, 0, 0, 0, 0, 0, 0, 0, 0, 0, 0, 0, 0, 0, 0, ...   \n4  [0, 0, 0, 0, 0, 0, 0, 0, 0, 0, 0, 0, 0, 0, 0, ...   \n\n                                                 fp2  \n0  [0, 0, 0, 0, 0, 0, 0, 0, 0, 0, 0, 0, 0, 0, 0, ...  \n1  [0, 0, 0, 0, 0, 0, 0, 0, 0, 0, 0, 0, 0, 0, 0, ...  \n2  [0, 0, 0, 0, 0, 0, 0, 0, 0, 0, 0, 0, 0, 0, 0, ...  \n3  [0, 0, 0, 0, 0, 0, 0, 0, 0, 0, 0, 0, 0, 0, 0, ...  \n4  [0, 0, 0, 0, 0, 0, 0, 0, 0, 0, 0, 0, 0, 0, 0, ...  ",
      "text/html": "<div>\n<style scoped>\n    .dataframe tbody tr th:only-of-type {\n        vertical-align: middle;\n    }\n\n    .dataframe tbody tr th {\n        vertical-align: top;\n    }\n\n    .dataframe thead th {\n        text-align: right;\n    }\n</style>\n<table border=\"1\" class=\"dataframe\">\n  <thead>\n    <tr style=\"text-align: right;\">\n      <th></th>\n      <th>class_results</th>\n      <th>superclass_results</th>\n      <th>pathway_results</th>\n      <th>isglycoside</th>\n      <th>fp1</th>\n      <th>fp2</th>\n    </tr>\n  </thead>\n  <tbody>\n    <tr>\n      <th>0</th>\n      <td>[Iridoids monoterpenoids]</td>\n      <td>[Monoterpenoids]</td>\n      <td>[Terpenoids]</td>\n      <td>True</td>\n      <td>[0, 0, 0, 0, 0, 0, 0, 0, 0, 0, 0, 0, 0, 0, 0, ...</td>\n      <td>[0, 0, 0, 0, 0, 0, 0, 0, 0, 0, 0, 0, 0, 0, 0, ...</td>\n    </tr>\n    <tr>\n      <th>1</th>\n      <td>[Arteminisin]</td>\n      <td>[Sesquiterpenoids]</td>\n      <td>[Terpenoids]</td>\n      <td>False</td>\n      <td>[0, 0, 0, 0, 0, 0, 0, 0, 0, 0, 0, 0, 0, 0, 0, ...</td>\n      <td>[0, 0, 0, 0, 0, 0, 0, 0, 0, 0, 0, 0, 0, 0, 0, ...</td>\n    </tr>\n    <tr>\n      <th>2</th>\n      <td>[Wax monoesters]</td>\n      <td>[Fatty esters]</td>\n      <td>[Fatty acids]</td>\n      <td>False</td>\n      <td>[0, 0, 0, 0, 0, 0, 0, 0, 0, 0, 0, 0, 0, 0, 0, ...</td>\n      <td>[0, 0, 0, 0, 0, 0, 0, 0, 0, 0, 0, 0, 0, 0, 0, ...</td>\n    </tr>\n    <tr>\n      <th>3</th>\n      <td>[Resolvin Ds]</td>\n      <td>[Docosanoids]</td>\n      <td>[Fatty acids]</td>\n      <td>False</td>\n      <td>[0, 0, 0, 0, 0, 0, 0, 0, 0, 0, 0, 0, 0, 0, 0, ...</td>\n      <td>[0, 0, 0, 0, 0, 0, 0, 0, 0, 0, 0, 0, 0, 0, 0, ...</td>\n    </tr>\n    <tr>\n      <th>4</th>\n      <td>[Abietane diterpenoids, Naphthoquinones]</td>\n      <td>[Naphthalenes, Diterpenoids]</td>\n      <td>[Polyketides, Terpenoids]</td>\n      <td>False</td>\n      <td>[0, 0, 0, 0, 0, 0, 0, 0, 0, 0, 0, 0, 0, 0, 0, ...</td>\n      <td>[0, 0, 0, 0, 0, 0, 0, 0, 0, 0, 0, 0, 0, 0, 0, ...</td>\n    </tr>\n  </tbody>\n</table>\n</div>"
     },
     "metadata": {},
     "execution_count": 24
    }
   ],
   "source": [
    "df"
   ]
  },
  {
   "cell_type": "code",
   "execution_count": 7,
   "metadata": {},
   "outputs": [],
   "source": [
    "flattened_classified_json.to_csv('NP_classy_opennpdb.tsv', sep = '\\t')\n",
    "\n"
   ]
  },
  {
   "cell_type": "code",
   "execution_count": 4,
   "metadata": {},
   "outputs": [],
   "source": [
    "df = pd.read_csv(\"/Users/pma/Dropbox/Research_UNIGE/git_repos/NP-Classifier/notebooks/NP_classy_opennpdb.tsv\", sep=\"\\t\")"
   ]
  },
  {
   "cell_type": "code",
   "execution_count": 13,
   "metadata": {},
   "outputs": [
    {
     "output_type": "execute_result",
     "data": {
      "text/plain": "                                         class_results  \\\n0        [Aporphine alkaloids, Isoquinoline alkaloids]   \n1        [Aporphine alkaloids, Isoquinoline alkaloids]   \n2        [Aporphine alkaloids, Isoquinoline alkaloids]   \n3        [Aporphine alkaloids, Isoquinoline alkaloids]   \n4               [Ursane and Taraxastane triterpenoids]   \n..                                                 ...   \n995                                                 []   \n996                           [Oleanane triterpenoids]   \n997                                     [Gallotannins]   \n998  [Isoquinoline alkaloids, Protoberberine alkalo...   \n999                         [Secokaurane diterpenoids]   \n\n           superclass_results                    pathway_results  isglycoside  \\\n0        [Tyrosine alkaloids]                        [Alkaloids]        False   \n1        [Tyrosine alkaloids]                        [Alkaloids]        False   \n2        [Tyrosine alkaloids]                        [Alkaloids]        False   \n3        [Tyrosine alkaloids]                        [Alkaloids]        False   \n4             [Triterpenoids]                       [Terpenoids]        False   \n..                        ...                                ...          ...   \n995                        []                                 []        False   \n996           [Triterpenoids]                       [Terpenoids]        False   \n997  [Phenolic acids (C6-C1)]  [Shikimates and Phenylpropanoids]         True   \n998      [Tyrosine alkaloids]                        [Alkaloids]        False   \n999            [Diterpenoids]                       [Terpenoids]        False   \n\n                                                   fp1  \\\n0    [0, 0, 0, 0, 0, 0, 0, 0, 0, 0, 0, 0, 0, 0, 0, ...   \n1    [0, 0, 0, 0, 0, 0, 0, 0, 0, 0, 0, 0, 0, 0, 0, ...   \n2    [0, 0, 0, 0, 0, 0, 0, 0, 0, 0, 0, 0, 0, 0, 0, ...   \n3    [0, 0, 0, 0, 0, 0, 0, 0, 0, 0, 0, 0, 0, 0, 0, ...   \n4    [0, 0, 0, 0, 0, 0, 0, 0, 0, 0, 0, 0, 0, 0, 0, ...   \n..                                                 ...   \n995  [0, 0, 0, 0, 0, 0, 0, 0, 0, 0, 0, 0, 0, 0, 0, ...   \n996  [0, 0, 0, 0, 0, 0, 0, 0, 0, 0, 0, 0, 0, 0, 0, ...   \n997  [0, 0, 0, 0, 0, 0, 0, 0, 0, 0, 0, 0, 0, 0, 0, ...   \n998  [0, 0, 0, 0, 0, 0, 0, 0, 0, 0, 0, 0, 0, 0, 0, ...   \n999  [0, 0, 0, 0, 0, 0, 0, 0, 0, 0, 0, 0, 0, 0, 0, ...   \n\n                                                   fp2  \n0    [0, 0, 0, 0, 0, 0, 0, 0, 0, 0, 0, 0, 0, 0, 0, ...  \n1    [0, 0, 0, 0, 0, 0, 0, 0, 0, 0, 0, 0, 0, 0, 0, ...  \n2    [0, 0, 0, 0, 0, 0, 0, 0, 0, 0, 0, 0, 0, 0, 0, ...  \n3    [0, 0, 0, 0, 0, 0, 0, 0, 0, 0, 0, 0, 0, 0, 0, ...  \n4    [0, 0, 0, 0, 0, 0, 0, 0, 0, 0, 0, 0, 0, 0, 0, ...  \n..                                                 ...  \n995  [0, 0, 0, 0, 0, 0, 0, 0, 0, 0, 0, 0, 0, 0, 0, ...  \n996  [0, 0, 0, 0, 0, 0, 0, 0, 0, 0, 0, 0, 0, 0, 0, ...  \n997  [0, 0, 0, 0, 0, 0, 0, 0, 0, 0, 0, 0, 0, 0, 0, ...  \n998  [0, 0, 0, 0, 0, 0, 0, 0, 0, 0, 0, 0, 0, 0, 0, ...  \n999  [0, 0, 0, 0, 0, 0, 0, 0, 0, 0, 0, 0, 0, 0, 0, ...  \n\n[1000 rows x 6 columns]",
      "text/html": "<div>\n<style scoped>\n    .dataframe tbody tr th:only-of-type {\n        vertical-align: middle;\n    }\n\n    .dataframe tbody tr th {\n        vertical-align: top;\n    }\n\n    .dataframe thead th {\n        text-align: right;\n    }\n</style>\n<table border=\"1\" class=\"dataframe\">\n  <thead>\n    <tr style=\"text-align: right;\">\n      <th></th>\n      <th>class_results</th>\n      <th>superclass_results</th>\n      <th>pathway_results</th>\n      <th>isglycoside</th>\n      <th>fp1</th>\n      <th>fp2</th>\n    </tr>\n  </thead>\n  <tbody>\n    <tr>\n      <th>0</th>\n      <td>[Aporphine alkaloids, Isoquinoline alkaloids]</td>\n      <td>[Tyrosine alkaloids]</td>\n      <td>[Alkaloids]</td>\n      <td>False</td>\n      <td>[0, 0, 0, 0, 0, 0, 0, 0, 0, 0, 0, 0, 0, 0, 0, ...</td>\n      <td>[0, 0, 0, 0, 0, 0, 0, 0, 0, 0, 0, 0, 0, 0, 0, ...</td>\n    </tr>\n    <tr>\n      <th>1</th>\n      <td>[Aporphine alkaloids, Isoquinoline alkaloids]</td>\n      <td>[Tyrosine alkaloids]</td>\n      <td>[Alkaloids]</td>\n      <td>False</td>\n      <td>[0, 0, 0, 0, 0, 0, 0, 0, 0, 0, 0, 0, 0, 0, 0, ...</td>\n      <td>[0, 0, 0, 0, 0, 0, 0, 0, 0, 0, 0, 0, 0, 0, 0, ...</td>\n    </tr>\n    <tr>\n      <th>2</th>\n      <td>[Aporphine alkaloids, Isoquinoline alkaloids]</td>\n      <td>[Tyrosine alkaloids]</td>\n      <td>[Alkaloids]</td>\n      <td>False</td>\n      <td>[0, 0, 0, 0, 0, 0, 0, 0, 0, 0, 0, 0, 0, 0, 0, ...</td>\n      <td>[0, 0, 0, 0, 0, 0, 0, 0, 0, 0, 0, 0, 0, 0, 0, ...</td>\n    </tr>\n    <tr>\n      <th>3</th>\n      <td>[Aporphine alkaloids, Isoquinoline alkaloids]</td>\n      <td>[Tyrosine alkaloids]</td>\n      <td>[Alkaloids]</td>\n      <td>False</td>\n      <td>[0, 0, 0, 0, 0, 0, 0, 0, 0, 0, 0, 0, 0, 0, 0, ...</td>\n      <td>[0, 0, 0, 0, 0, 0, 0, 0, 0, 0, 0, 0, 0, 0, 0, ...</td>\n    </tr>\n    <tr>\n      <th>4</th>\n      <td>[Ursane and Taraxastane triterpenoids]</td>\n      <td>[Triterpenoids]</td>\n      <td>[Terpenoids]</td>\n      <td>False</td>\n      <td>[0, 0, 0, 0, 0, 0, 0, 0, 0, 0, 0, 0, 0, 0, 0, ...</td>\n      <td>[0, 0, 0, 0, 0, 0, 0, 0, 0, 0, 0, 0, 0, 0, 0, ...</td>\n    </tr>\n    <tr>\n      <th>...</th>\n      <td>...</td>\n      <td>...</td>\n      <td>...</td>\n      <td>...</td>\n      <td>...</td>\n      <td>...</td>\n    </tr>\n    <tr>\n      <th>995</th>\n      <td>[]</td>\n      <td>[]</td>\n      <td>[]</td>\n      <td>False</td>\n      <td>[0, 0, 0, 0, 0, 0, 0, 0, 0, 0, 0, 0, 0, 0, 0, ...</td>\n      <td>[0, 0, 0, 0, 0, 0, 0, 0, 0, 0, 0, 0, 0, 0, 0, ...</td>\n    </tr>\n    <tr>\n      <th>996</th>\n      <td>[Oleanane triterpenoids]</td>\n      <td>[Triterpenoids]</td>\n      <td>[Terpenoids]</td>\n      <td>False</td>\n      <td>[0, 0, 0, 0, 0, 0, 0, 0, 0, 0, 0, 0, 0, 0, 0, ...</td>\n      <td>[0, 0, 0, 0, 0, 0, 0, 0, 0, 0, 0, 0, 0, 0, 0, ...</td>\n    </tr>\n    <tr>\n      <th>997</th>\n      <td>[Gallotannins]</td>\n      <td>[Phenolic acids (C6-C1)]</td>\n      <td>[Shikimates and Phenylpropanoids]</td>\n      <td>True</td>\n      <td>[0, 0, 0, 0, 0, 0, 0, 0, 0, 0, 0, 0, 0, 0, 0, ...</td>\n      <td>[0, 0, 0, 0, 0, 0, 0, 0, 0, 0, 0, 0, 0, 0, 0, ...</td>\n    </tr>\n    <tr>\n      <th>998</th>\n      <td>[Isoquinoline alkaloids, Protoberberine alkalo...</td>\n      <td>[Tyrosine alkaloids]</td>\n      <td>[Alkaloids]</td>\n      <td>False</td>\n      <td>[0, 0, 0, 0, 0, 0, 0, 0, 0, 0, 0, 0, 0, 0, 0, ...</td>\n      <td>[0, 0, 0, 0, 0, 0, 0, 0, 0, 0, 0, 0, 0, 0, 0, ...</td>\n    </tr>\n    <tr>\n      <th>999</th>\n      <td>[Secokaurane diterpenoids]</td>\n      <td>[Diterpenoids]</td>\n      <td>[Terpenoids]</td>\n      <td>False</td>\n      <td>[0, 0, 0, 0, 0, 0, 0, 0, 0, 0, 0, 0, 0, 0, 0, ...</td>\n      <td>[0, 0, 0, 0, 0, 0, 0, 0, 0, 0, 0, 0, 0, 0, 0, ...</td>\n    </tr>\n  </tbody>\n</table>\n<p>1000 rows × 6 columns</p>\n</div>"
     },
     "metadata": {},
     "execution_count": 13
    }
   ],
   "source": [
    "df"
   ]
  },
  {
   "cell_type": "code",
   "execution_count": 14,
   "metadata": {},
   "outputs": [],
   "source": [
    "coltodrop = ['fp1', 'fp2']\n",
    "df.drop(coltodrop, axis=1, inplace= True)"
   ]
  },
  {
   "cell_type": "code",
   "execution_count": 15,
   "metadata": {
    "tags": []
   },
   "outputs": [
    {
     "output_type": "error",
     "ename": "NameError",
     "evalue": "name 'colnames' is not defined",
     "traceback": [
      "\u001b[0;31m---------------------------------------------------------------------------\u001b[0m",
      "\u001b[0;31mNameError\u001b[0m                                 Traceback (most recent call last)",
      "\u001b[0;32m<ipython-input-15-b4540d27c3e6>\u001b[0m in \u001b[0;36m<module>\u001b[0;34m\u001b[0m\n\u001b[0;32m----> 1\u001b[0;31m \u001b[0mcolnames\u001b[0m\u001b[0;34m(\u001b[0m\u001b[0mdf\u001b[0m\u001b[0;34m)\u001b[0m\u001b[0;34m\u001b[0m\u001b[0;34m\u001b[0m\u001b[0m\n\u001b[0m",
      "\u001b[0;31mNameError\u001b[0m: name 'colnames' is not defined"
     ]
    }
   ],
   "source": [
    "colnames(df)"
   ]
  },
  {
   "cell_type": "code",
   "execution_count": 16,
   "metadata": {},
   "outputs": [],
   "source": [
    "df.to_csv('NP_classy_opennpdb.tsv', sep = '\\t', index = False)"
   ]
  },
  {
   "cell_type": "code",
   "execution_count": 20,
   "metadata": {},
   "outputs": [
    {
     "output_type": "execute_result",
     "data": {
      "text/plain": "                                          class_results  \\\n0     ['Aporphine alkaloids', 'Isoquinoline alkaloids']   \n1     ['Aporphine alkaloids', 'Isoquinoline alkaloids']   \n2     ['Aporphine alkaloids', 'Isoquinoline alkaloids']   \n3     ['Aporphine alkaloids', 'Isoquinoline alkaloids']   \n4              ['Ursane and Taraxastane triterpenoids']   \n...                                                 ...   \n9982                                ['Polysaccharides']   \n9983                                                 []   \n9984                                    ['Isoflavones']   \n9985                      ['Cycloartane triterpenoids']   \n9986                       ['Guaiane sesquiterpenoids']   \n\n          superclass_results                      pathway_results  your value  \n0     ['Tyrosine alkaloids']                        ['Alkaloids']       False  \n1     ['Tyrosine alkaloids']                        ['Alkaloids']       False  \n2     ['Tyrosine alkaloids']                        ['Alkaloids']       False  \n3     ['Tyrosine alkaloids']                        ['Alkaloids']       False  \n4          ['Triterpenoids']                       ['Terpenoids']       False  \n...                      ...                                  ...         ...  \n9982         ['Saccharides']                    ['Carbohydrates']        True  \n9983                      []                       ['Terpenoids']       False  \n9984       ['Isoflavonoids']  ['Shikimates and Phenylpropanoids']        True  \n9985       ['Triterpenoids']                       ['Terpenoids']        True  \n9986    ['Sesquiterpenoids']                       ['Terpenoids']       False  \n\n[9987 rows x 4 columns]",
      "text/html": "<div>\n<style scoped>\n    .dataframe tbody tr th:only-of-type {\n        vertical-align: middle;\n    }\n\n    .dataframe tbody tr th {\n        vertical-align: top;\n    }\n\n    .dataframe thead th {\n        text-align: right;\n    }\n</style>\n<table border=\"1\" class=\"dataframe\">\n  <thead>\n    <tr style=\"text-align: right;\">\n      <th></th>\n      <th>class_results</th>\n      <th>superclass_results</th>\n      <th>pathway_results</th>\n      <th>your value</th>\n    </tr>\n  </thead>\n  <tbody>\n    <tr>\n      <th>0</th>\n      <td>['Aporphine alkaloids', 'Isoquinoline alkaloids']</td>\n      <td>['Tyrosine alkaloids']</td>\n      <td>['Alkaloids']</td>\n      <td>False</td>\n    </tr>\n    <tr>\n      <th>1</th>\n      <td>['Aporphine alkaloids', 'Isoquinoline alkaloids']</td>\n      <td>['Tyrosine alkaloids']</td>\n      <td>['Alkaloids']</td>\n      <td>False</td>\n    </tr>\n    <tr>\n      <th>2</th>\n      <td>['Aporphine alkaloids', 'Isoquinoline alkaloids']</td>\n      <td>['Tyrosine alkaloids']</td>\n      <td>['Alkaloids']</td>\n      <td>False</td>\n    </tr>\n    <tr>\n      <th>3</th>\n      <td>['Aporphine alkaloids', 'Isoquinoline alkaloids']</td>\n      <td>['Tyrosine alkaloids']</td>\n      <td>['Alkaloids']</td>\n      <td>False</td>\n    </tr>\n    <tr>\n      <th>4</th>\n      <td>['Ursane and Taraxastane triterpenoids']</td>\n      <td>['Triterpenoids']</td>\n      <td>['Terpenoids']</td>\n      <td>False</td>\n    </tr>\n    <tr>\n      <th>...</th>\n      <td>...</td>\n      <td>...</td>\n      <td>...</td>\n      <td>...</td>\n    </tr>\n    <tr>\n      <th>9982</th>\n      <td>['Polysaccharides']</td>\n      <td>['Saccharides']</td>\n      <td>['Carbohydrates']</td>\n      <td>True</td>\n    </tr>\n    <tr>\n      <th>9983</th>\n      <td>[]</td>\n      <td>[]</td>\n      <td>['Terpenoids']</td>\n      <td>False</td>\n    </tr>\n    <tr>\n      <th>9984</th>\n      <td>['Isoflavones']</td>\n      <td>['Isoflavonoids']</td>\n      <td>['Shikimates and Phenylpropanoids']</td>\n      <td>True</td>\n    </tr>\n    <tr>\n      <th>9985</th>\n      <td>['Cycloartane triterpenoids']</td>\n      <td>['Triterpenoids']</td>\n      <td>['Terpenoids']</td>\n      <td>True</td>\n    </tr>\n    <tr>\n      <th>9986</th>\n      <td>['Guaiane sesquiterpenoids']</td>\n      <td>['Sesquiterpenoids']</td>\n      <td>['Terpenoids']</td>\n      <td>False</td>\n    </tr>\n  </tbody>\n</table>\n<p>9987 rows × 4 columns</p>\n</div>"
     },
     "metadata": {},
     "execution_count": 20
    }
   ],
   "source": [
    "df.rename(columns={ df.columns[-1]: \"your value\" })"
   ]
  },
  {
   "cell_type": "code",
   "execution_count": null,
   "metadata": {},
   "outputs": [],
   "source": []
  }
 ],
 "metadata": {
  "kernelspec": {
   "display_name": "Python 3.8.3 64-bit ('base': conda)",
   "language": "python",
   "name": "python_defaultSpec_1599028283407"
  },
  "language_info": {
   "codemirror_mode": {
    "name": "ipython",
    "version": 3
   },
   "file_extension": ".py",
   "mimetype": "text/x-python",
   "name": "python",
   "nbconvert_exporter": "python",
   "pygments_lexer": "ipython3",
   "version": "3.8.3-final"
  }
 },
 "nbformat": 4,
 "nbformat_minor": 4
}